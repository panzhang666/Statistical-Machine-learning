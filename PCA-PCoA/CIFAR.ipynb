{
 "cells": [
  {
   "cell_type": "code",
   "execution_count": 1,
   "metadata": {},
   "outputs": [],
   "source": [
    "import pickle\n",
    "import os\n",
    "import numpy as np\n",
    "import pandas as pd\n",
    "from sklearn.decomposition import PCA\n",
    "from scipy.spatial.distance import euclidean\n",
    "from skbio.stats.ordination import pcoa\n",
    "import matplotlib.pyplot as plt\n",
    "import time\n",
    "os.chdir('/Users/panzhang/Desktop/CS498AML/HW4/cifar-10-batches-py')"
   ]
  },
  {
   "cell_type": "code",
   "execution_count": 2,
   "metadata": {},
   "outputs": [],
   "source": [
    "def unpickle(file):\n",
    "    with open(file, 'rb') as fo:\n",
    "        dict = pickle.load(fo, encoding='bytes')\n",
    "    return dict"
   ]
  },
  {
   "cell_type": "code",
   "execution_count": null,
   "metadata": {},
   "outputs": [],
   "source": [
    "batchName = [i for i in os.listdir() if 'data_batch' in i]\n",
    "for i in batchName:\n",
    "    globals()[i] = unpickle(i)"
   ]
  },
  {
   "cell_type": "code",
   "execution_count": 4,
   "metadata": {
    "scrolled": true
   },
   "outputs": [],
   "source": [
    "classLevels = set()\n",
    "df_class = {}\n",
    "for eachBatch in batchName:\n",
    "    # get all class levels\n",
    "    classLevels = classLevels.union(set(globals()[eachBatch][b'labels']))\n",
    "    # initialize - create null dataframes\n",
    "    for classValue in classLevels:\n",
    "        df_class[classValue] = pd.DataFrame(columns = list(range(0, 3072, 1)))"
   ]
  },
  {
   "cell_type": "code",
   "execution_count": 5,
   "metadata": {},
   "outputs": [],
   "source": [
    "def sepPickleClass(batch, classValueRange):\n",
    "    for classValue in classValueRange:\n",
    "        ind = [i for i, val in enumerate(batch[b'labels']) if val == classValue]\n",
    "        df_class[classValue] = df_class[classValue].append(pd.DataFrame(batch[b'data'][ind]))"
   ]
  },
  {
   "cell_type": "code",
   "execution_count": 6,
   "metadata": {},
   "outputs": [],
   "source": [
    "for eachBatch in batchName:\n",
    "    sepPickleClass(globals()[eachBatch], classLevels)"
   ]
  },
  {
   "cell_type": "code",
   "execution_count": 8,
   "metadata": {},
   "outputs": [],
   "source": [
    "def getMeanImage(classValue):\n",
    "    return df_class[classValue].mean(axis = 0)"
   ]
  },
  {
   "cell_type": "code",
   "execution_count": 9,
   "metadata": {},
   "outputs": [],
   "source": [
    "mean_class = {}\n",
    "for classValue in classLevels:\n",
    "    mean_class[classValue] = getMeanImage(classValue)"
   ]
  },
  {
   "cell_type": "code",
   "execution_count": 12,
   "metadata": {},
   "outputs": [],
   "source": [
    "def getPcaRepr(classValue, n_components):\n",
    "    pca_model = PCA(n_components = n_components, svd_solver = 'full')\n",
    "    pca_model.fit(df_class[classValue])\n",
    "    pcaRepr = pca_model.inverse_transform(pca_model.transform(df_class[classValue]))\n",
    "    return pcaRepr"
   ]
  },
  {
   "cell_type": "code",
   "execution_count": 82,
   "metadata": {},
   "outputs": [],
   "source": [
    "pca_repr_class = {}\n",
    "for classValue in classLevels:\n",
    "    pca_repr_class[classValue] = getPcaRepr(classValue, 20)"
   ]
  },
  {
   "cell_type": "code",
   "execution_count": 15,
   "metadata": {},
   "outputs": [],
   "source": [
    "def getMSE(y_true, y_pred):\n",
    "    assert y_true.shape[0] == y_pred.shape[0]\n",
    "    return np.sum(np.sum(np.square(np.subtract(y_pred, y_true)))) / y_true.shape[0]"
   ]
  },
  {
   "cell_type": "code",
   "execution_count": 16,
   "metadata": {
    "scrolled": true
   },
   "outputs": [],
   "source": [
    "li_MSE = []\n",
    "for classValue in classLevels:\n",
    "    li_MSE.append(getMSE(df_class[classValue], pca_repr_class[classValue]))"
   ]
  },
  {
   "cell_type": "code",
   "execution_count": 91,
   "metadata": {
    "scrolled": true
   },
   "outputs": [
    {
     "data": {
      "text/plain": [
       "[2629467.1550547639,\n",
       " 3946267.9085392822,\n",
       " 2432107.4911725386,\n",
       " 3106124.7729624542,\n",
       " 2181905.7666432783,\n",
       " 3230245.0703085512,\n",
       " 2623410.9962643329,\n",
       " 3424435.2463813997,\n",
       " 2438641.3675135057,\n",
       " 4024349.8710604957]"
      ]
     },
     "execution_count": 91,
     "metadata": {},
     "output_type": "execute_result"
    }
   ],
   "source": [
    "li_MSE"
   ]
  },
  {
   "cell_type": "code",
   "execution_count": 19,
   "metadata": {},
   "outputs": [
    {
     "data": {
      "text/plain": [
       "<Container object of 10 artists>"
      ]
     },
     "execution_count": 19,
     "metadata": {},
     "output_type": "execute_result"
    },
    {
     "data": {
      "image/png": "[encoded data removed]",
      "text/plain": [
       "<matplotlib.figure.Figure at 0x1060b92e8>"
      ]
     },
     "metadata": {
      "needs_background": "light"
     },
     "output_type": "display_data"
    }
   ],
   "source": [
    "plt.bar(range(1,11,1), li_MSE)"
   ]
  },
  {
   "cell_type": "code",
   "execution_count": 23,
   "metadata": {},
   "outputs": [],
   "source": [
    "dTab = []\n",
    "for classValue1 in classLevels:\n",
    "    dRow = []\n",
    "    for classValue2 in classLevels:\n",
    "        d = euclidean(mean_class[classValue1], mean_class[classValue2])\n",
    "        dRow.append(d)\n",
    "    dTab.append(dRow)\n",
    "dMat = np.matrix(dTab)"
   ]
  },
  {
   "cell_type": "code",
   "execution_count": 40,
   "metadata": {
    "scrolled": true
   },
   "outputs": [],
   "source": [
    "def create2DMap(distanceMat, axes, axis_labels = None):\n",
    "    ordResult = pcoa(distanceMat)\n",
    "    coord_matrix = ordResult.samples.values.T\n",
    "    prop_expl = ordResult.proportion_explained\n",
    "    fig = plt.figure()\n",
    "    xs = coord_matrix[axes[0]]\n",
    "    ys = coord_matrix[axes[1]]\n",
    "    plt.scatter(xs, ys)\n",
    "    names=[\"airplane\",\"automobile\",\"bird\",\"cat\",\"deer\",\"dog\",\"frog\",\"horse\",\"ship\",\"truck\"]\n",
    "    for i in range(len(xs)):\n",
    "        plt.annotate(names[i],(xs[i], ys[i]))\n",
    "    if axis_labels is None:\n",
    "        axis_labels = ['PC{} ({:.2%})'.format((axis+1), prop_expl[axis]) for axis in axes]\n",
    "    plt.xlabel(axis_labels[0])\n",
    "    plt.ylabel(axis_labels[1])\n",
    "    plt.axvline(x=0, color = 'k')\n",
    "    plt.axhline(y=0, color = 'k')\n",
    "    return fig\n"
   ]
  },
  {
   "cell_type": "code",
   "execution_count": 41,
   "metadata": {},
   "outputs": [
    {
     "data": {
      "image/png": "[encoded data removed]",
      "text/plain": [
       "<matplotlib.figure.Figure at 0x1e49adac8>"
      ]
     },
     "metadata": {
      "needs_background": "light"
     },
     "output_type": "display_data"
    }
   ],
   "source": [
    "pcoa_2dMap = create2DMap(dMat, [0,1])"
   ]
  },
  {
   "cell_type": "code",
   "execution_count": 71,
   "metadata": {
    "scrolled": false
   },
   "outputs": [],
   "source": [
    "meanTomatirx = []\n",
    "for classValue in classLevels:\n",
    "    meanTomatirx.append(mean_class[classValue])\n",
    "meanTomatirx=np.matrix(meanTomatirx)"
   ]
  },
  {
   "cell_type": "code",
   "execution_count": 78,
   "metadata": {},
   "outputs": [
    {
     "data": {
      "text/plain": [
       "(10, 2)"
      ]
     },
     "execution_count": 78,
     "metadata": {},
     "output_type": "execute_result"
    }
   ],
   "source": [
    "from sklearn.manifold import MDS\n",
    "embedding = MDS(n_components=2)\n",
    "X_transformed = embedding.fit_transform(meanTomatirx)\n",
    "X_transformed.shape"
   ]
  },
  {
   "cell_type": "code",
   "execution_count": 79,
   "metadata": {},
   "outputs": [
    {
     "data": {
      "image/png": "[encoded data removed]",
      "text/plain": [
       "<matplotlib.figure.Figure at 0x10e2568d0>"
      ]
     },
     "metadata": {
      "needs_background": "light"
     },
     "output_type": "display_data"
    }
   ],
   "source": [
    "names=[\"airplane\",\"automobile\",\"bird\",\"cat\",\"deer\",\"dog\",\"frog\",\"horse\",\"ship\",\"truck\"]\n",
    "for i in range(X_transformed.shape[0]):\n",
    "    plt.scatter(X_transformed[i][0], X_transformed[i][1])\n",
    "    plt.annotate(names[i],(X_transformed[i][0], X_transformed[i][1]))"
   ]
  },
  {
   "cell_type": "code",
   "execution_count": 25,
   "metadata": {},
   "outputs": [],
   "source": [
    "import PIL"
   ]
  },
  {
   "cell_type": "code",
   "execution_count": 26,
   "metadata": {},
   "outputs": [
    {
     "data": {
      "image/png": "[encoded data removed]",
      "text/plain": [
       "<PIL.Image.Image image mode=RGB size=32x32 at 0x1E3A3BA20>"
      ]
     },
     "execution_count": 26,
     "metadata": {},
     "output_type": "execute_result"
    }
   ],
   "source": [
    "m = np.transpose(data_batch_1[b'data'][12].reshape((3, 32, 32)), (1,2,0))\n",
    "PIL.Image.fromarray(m, mode = 'RGB')"
   ]
  },
  {
   "cell_type": "code",
   "execution_count": null,
   "metadata": {},
   "outputs": [],
   "source": []
  }
 ],
 "metadata": {
  "kernelspec": {
   "display_name": "Python 3",
   "language": "python",
   "name": "python3"
  },
  "language_info": {
   "codemirror_mode": {
    "name": "ipython",
    "version": 3
   },
   "file_extension": ".py",
   "mimetype": "text/x-python",
   "name": "python",
   "nbconvert_exporter": "python",
   "pygments_lexer": "ipython3",
   "version": "3.6.4"
  }
 },
 "nbformat": 4,
 "nbformat_minor": 2
}
